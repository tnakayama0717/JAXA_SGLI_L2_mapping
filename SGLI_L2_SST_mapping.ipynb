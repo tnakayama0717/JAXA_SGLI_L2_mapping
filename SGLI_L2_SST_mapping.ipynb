{
 "cells": [
  {
   "cell_type": "code",
   "execution_count": null,
   "id": "e2013017",
   "metadata": {
    "tags": []
   },
   "outputs": [],
   "source": [
    "#SGLI_L2_SST_mapping py to ipynb\n",
    "import h5py\n",
    "import numpy as np\n",
    "import matplotlib.pyplot as plt\n",
    "from scipy.interpolate import griddata\n",
    "%matplotlib inline\n",
    "FNAME = 'GC1SG1_201809050115H04610_L2SG_SSTDQ_3001.h5'\n",
    "DNAME = '/Image_data/SST'"
   ]
  },
  {
   "cell_type": "code",
   "execution_count": null,
   "id": "512f526f",
   "metadata": {
    "tags": []
   },
   "outputs": [],
   "source": [
    "file =  h5py.File(FNAME, 'r') \n",
    "# Read SST data\n",
    "Data0 = file[DNAME][:]\n",
    "    \n",
    "# Read attributes\n",
    "Err_DN = file[DNAME].attrs['Error_DN']\n",
    "Min_DN = file[DNAME].attrs['Minimum_valid_DN']\n",
    "Max_DN = file[DNAME].attrs['Maximum_valid_DN']\n",
    "Slope  = file[DNAME].attrs['Slope']\n",
    "Offset = file[DNAME].attrs['Offset']"
   ]
  },
  {
   "cell_type": "code",
   "execution_count": null,
   "id": "33ad11c0",
   "metadata": {
    "tags": []
   },
   "outputs": [],
   "source": [
    "# Data processing\n",
    "Data1 = Data0.astype(float)\n",
    "Data1[Data0 == Err_DN] = np.nan\n",
    "Data1[(Data0 <= Min_DN) | (Data0 >= Max_DN)] = np.nan\n",
    "Data1 = Slope * Data1 + Offset\n",
    "\n",
    "# Plotting\n",
    "plt.figure()\n",
    "plt.imshow(Data1, cmap='jet')\n",
    "plt.colorbar()\n",
    "plt.savefig(\"figure/default.png\", format=\"png\", dpi=2000)"
   ]
  },
  {
   "cell_type": "code",
   "execution_count": null,
   "id": "1b951a30",
   "metadata": {
    "tags": []
   },
   "outputs": [],
   "source": [
    "# Read QA_flag\n",
    "QA_flag = file['/Image_data/QA_flag'][:]\n",
    "possibly_cloudy = np.bitwise_and(QA_flag, 2**12, dtype=np.uint16)\n",
    "acceptable = np.bitwise_and(QA_flag, 2**13, dtype=np.uint16)\n",
    "good = np.bitwise_and(QA_flag, 2**14, dtype=np.uint16)\n",
    "\n",
    "reliable = np.logical_or.reduce([good, acceptable, possibly_cloudy])\n",
    "\n",
    "# Apply reliability mask\n",
    "Data1[~reliable] = np.nan\n",
    "\n",
    "# Plotting with reliability mask\n",
    "plt.figure()\n",
    "plt.imshow(Data1, cmap='jet')\n",
    "plt.colorbar()\n",
    "plt.savefig(\"figure/applying_QAflag.png\", format=\"png\", dpi=2000)\n",
    "plt.show()"
   ]
  },
  {
   "cell_type": "code",
   "execution_count": null,
   "id": "f9d190e1",
   "metadata": {
    "tags": []
   },
   "outputs": [],
   "source": [
    "# Read Latitude and Longitude\n",
    "Lat = file['/Geometry_data/Latitude'][:]\n",
    "Lat_r = float(file['/Geometry_data/Latitude'].attrs['Resampling_interval'])\n",
    "Lon = file['/Geometry_data/Longitude'][:]\n",
    "Lon_r = float(file['/Geometry_data/Longitude'].attrs['Resampling_interval'])\n",
    "\n",
    "# Create meshgrid\n",
    "X, Y = np.meshgrid(np.arange(1, Lat_r * Lat.shape[1] + 1, Lat_r),\n",
    "                   np.arange(1, Lat_r * Lat.shape[0] + 1, Lat_r))\n",
    "\n",
    "Xq, Yq = np.meshgrid(np.arange(1, Data0.shape[1] + 1),\n",
    "                     np.arange(1, Data0.shape[0] + 1))\n",
    "\n",
    "# Interpolate Latitude and Longitude\n",
    "f_lat = griddata((X.flatten(), Y.flatten()), Lat.flatten(), (Xq, Yq), method='linear')\n",
    "f_lon = griddata((X.flatten(), Y.flatten()), Lon.flatten(), (Xq, Yq), method='linear')\n",
    "\n",
    "LLroi = {'Lat': f_lat,\n",
    "         'Lon': f_lon}\n"
   ]
  },
  {
   "cell_type": "code",
   "execution_count": null,
   "id": "788c3173",
   "metadata": {
    "tags": []
   },
   "outputs": [],
   "source": [
    "# Extract some data\n",
    "IDX_X = slice(4600, 4900)\n",
    "IDX_Y = slice(1550, 1750)\n",
    "\n",
    "LLroi['Lat'] = LLroi['Lat'][IDX_X, IDX_Y]\n",
    "LLroi['Lon'] = LLroi['Lon'][IDX_X, IDX_Y]\n",
    "Data1 = Data1[IDX_X, IDX_Y]\n",
    "\n",
    "# ROI calculation\n",
    "DDeg = 10/4800\n",
    "ROI = {'LatLim': [np.min(LLroi['Lat']), np.max(LLroi['Lat'])],\n",
    "       'LonLim': [np.min(LLroi['Lon']), np.max(LLroi['Lon'])]}\n",
    "\n",
    "Latg = np.arange(ROI['LatLim'][1], ROI['LatLim'][0] - DDeg, -DDeg)\n",
    "Long = np.arange(ROI['LonLim'][0], ROI['LonLim'][1] + DDeg, DDeg)\n",
    "\n",
    "LLg = np.meshgrid(Latg, Long, indexing='ij')"
   ]
  },
  {
   "cell_type": "code",
   "execution_count": null,
   "id": "dafc6d92",
   "metadata": {
    "tags": []
   },
   "outputs": [],
   "source": [
    "# Scattered interpolation\n",
    "points = np.column_stack((LLroi['Lat'].flatten(), LLroi['Lon'].flatten()))\n",
    "values = Data1.flatten()\n",
    "\n",
    "grid_lat, grid_lon = np.meshgrid(Latg, Long, indexing='ij')\n",
    "grid_points = np.column_stack((grid_lat.flatten(), grid_lon.flatten()))\n",
    "\n",
    "Data2 = griddata(points, values, grid_points, method='linear').reshape(grid_lat.shape)\n",
    "\n",
    "# Plotting\n",
    "plt.figure()\n",
    "plt.imshow(Data1, vmin=24, vmax=31, cmap='jet')\n",
    "plt.gca().set_aspect('equal', adjustable='box')\n",
    "plt.colorbar()\n",
    "plt.savefig(\"figure/Tokyo_bay.png\", format=\"png\", dpi=2000)\n",
    "    \n",
    "plt.figure()\n",
    "plt.pcolormesh(Long, Latg, Data2, vmin=24, vmax=31, cmap='jet')\n",
    "plt.gca().set_aspect('equal', adjustable='box')\n",
    "plt.colorbar()\n",
    "plt.savefig(\"figure/Tokyo_bay_mapping.png\", format=\"png\", dpi=2000)\n",
    "plt.show()"
   ]
  },
  {
   "cell_type": "code",
   "execution_count": null,
   "id": "b268f8e8",
   "metadata": {},
   "outputs": [],
   "source": []
  }
 ],
 "metadata": {
  "kernelspec": {
   "display_name": "Python 3 (ipykernel)",
   "language": "python",
   "name": "python3"
  },
  "language_info": {
   "codemirror_mode": {
    "name": "ipython",
    "version": 3
   },
   "file_extension": ".py",
   "mimetype": "text/x-python",
   "name": "python",
   "nbconvert_exporter": "python",
   "pygments_lexer": "ipython3",
   "version": "3.9.18"
  }
 },
 "nbformat": 4,
 "nbformat_minor": 5
}
